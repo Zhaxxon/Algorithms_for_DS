{
 "cells": [
  {
   "cell_type": "markdown",
   "metadata": {},
   "source": [
    "# Урок 1. Алгоритм линейной регрессии. Градиентный спуск."
   ]
  },
  {
   "cell_type": "markdown",
   "metadata": {},
   "source": [
    "### Задание-1:\n",
    "Подберите скорость обучения (alpha) и количество итераций."
   ]
  },
  {
   "cell_type": "code",
   "execution_count": 1,
   "metadata": {},
   "outputs": [],
   "source": [
    "import numpy as np\n",
    "import pandas as pd"
   ]
  },
  {
   "cell_type": "code",
   "execution_count": 3,
   "metadata": {},
   "outputs": [],
   "source": [
    "X = np.array([[1, 1, 1, 1, 1, 1, 1, 1, 1, 1],\n",
    "              [1, 1, 2, 1, 3, 0, 5, 10, 1, 2]])"
   ]
  },
  {
   "cell_type": "code",
   "execution_count": 4,
   "metadata": {},
   "outputs": [
    {
     "data": {
      "text/plain": [
       "array([[ 1,  1,  1,  1,  1,  1,  1,  1,  1,  1],\n",
       "       [ 1,  1,  2,  1,  3,  0,  5, 10,  1,  2]])"
      ]
     },
     "execution_count": 4,
     "metadata": {},
     "output_type": "execute_result"
    }
   ],
   "source": [
    "X"
   ]
  },
  {
   "cell_type": "code",
   "execution_count": 5,
   "metadata": {},
   "outputs": [],
   "source": [
    "y = [45, 55, 50, 59, 65, 35, 75, 80, 50, 60]"
   ]
  },
  {
   "cell_type": "code",
   "execution_count": 6,
   "metadata": {},
   "outputs": [
    {
     "data": {
      "text/plain": [
       "[45, 55, 50, 59, 65, 35, 75, 80, 50, 60]"
      ]
     },
     "execution_count": 6,
     "metadata": {},
     "output_type": "execute_result"
    }
   ],
   "source": [
    "y"
   ]
  },
  {
   "cell_type": "code",
   "execution_count": 9,
   "metadata": {},
   "outputs": [],
   "source": [
    "def calc_mse(y, y_pred):\n",
    "    err = np.mean((y - y_pred)**2)\n",
    "    return err"
   ]
  },
  {
   "cell_type": "code",
   "execution_count": 22,
   "metadata": {},
   "outputs": [
    {
     "data": {
      "text/plain": [
       "(array([1. , 0.5]), 1e-06)"
      ]
     },
     "execution_count": 22,
     "metadata": {},
     "output_type": "execute_result"
    }
   ],
   "source": [
    "n = X.shape[1]\n",
    "alpha = 1e-6\n",
    "W = np.array([1, 0.5])\n",
    "W, alpha"
   ]
  },
  {
   "cell_type": "code",
   "execution_count": 23,
   "metadata": {
    "scrolled": true
   },
   "outputs": [
    {
     "name": "stdout",
     "output_type": "stream",
     "text": [
      "0 [1.0001102 0.50034  ] 3173.15\n",
      "1000000 [31.641873    6.78957688] 176.60922090476024\n",
      "2000000 [41.72048075  4.92848486] 62.2695054432829\n",
      "3000000 [45.28359293  4.27052894] 47.978755751068256\n",
      "4000000 [46.54326775  4.03792034] 46.19262635638841\n",
      "5000000 [46.98860334  3.95568572] 45.969386968445434\n",
      "6000000 [47.1460438   3.92661314] 45.94148539285018\n",
      "7000000 [47.20170407  3.91633504] 45.93799811433777\n",
      "8000000 [47.22138177  3.9127014 ] 45.93756225682205\n",
      "9000000 [47.22833847  3.9114168 ] 45.937507781169096\n"
     ]
    }
   ],
   "source": [
    "for i in range(10000000):\n",
    "    y_pred = np.dot(W, X)\n",
    "    err = calc_mse(y, y_pred)\n",
    "    for ii in range(W.shape[0]):\n",
    "        W[ii] -= alpha * (1/n * 2 * np.sum(X[ii] * (y_pred - y)))\n",
    "    if i % 1000000 == 0:\n",
    "        print(i, W, err)"
   ]
  },
  {
   "cell_type": "code",
   "execution_count": null,
   "metadata": {},
   "outputs": [],
   "source": []
  }
 ],
 "metadata": {
  "kernelspec": {
   "display_name": "Python 3",
   "language": "python",
   "name": "python3"
  },
  "language_info": {
   "codemirror_mode": {
    "name": "ipython",
    "version": 3
   },
   "file_extension": ".py",
   "mimetype": "text/x-python",
   "name": "python",
   "nbconvert_exporter": "python",
   "pygments_lexer": "ipython3",
   "version": "3.7.4"
  }
 },
 "nbformat": 4,
 "nbformat_minor": 2
}
