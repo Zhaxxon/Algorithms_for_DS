{
  "nbformat": 4,
  "nbformat_minor": 0,
  "metadata": {
    "colab": {
      "name": "Untitled14.ipynb",
      "provenance": [],
      "collapsed_sections": []
    },
    "kernelspec": {
      "name": "python3",
      "display_name": "Python 3"
    }
  },
  "cells": [
    {
      "cell_type": "code",
      "metadata": {
        "id": "9QNrOAEbxESg",
        "colab_type": "code",
        "colab": {}
      },
      "source": [
        "Распределение Бернулли: 0 1"
      ],
      "execution_count": 0,
      "outputs": []
    },
    {
      "cell_type": "code",
      "metadata": {
        "id": "C6i3J4qXz-EF",
        "colab_type": "code",
        "colab": {}
      },
      "source": [
        "P(x=1) = p\n",
        "P(x=0) = q\n",
        "\n",
        "p = 0.02\n",
        "q = 0.98\n",
        "\n",
        "q = 1 - p"
      ],
      "execution_count": 0,
      "outputs": []
    },
    {
      "cell_type": "code",
      "metadata": {
        "id": "uNLzuAYr1Qs9",
        "colab_type": "code",
        "colab": {}
      },
      "source": [
        "sigmoid(W.T * X)"
      ],
      "execution_count": 0,
      "outputs": []
    },
    {
      "cell_type": "code",
      "metadata": {
        "id": "VKYmTwDl2P5D",
        "colab_type": "code",
        "colab": {}
      },
      "source": [
        "p*(1-p)"
      ],
      "execution_count": 0,
      "outputs": []
    },
    {
      "cell_type": "code",
      "metadata": {
        "id": "SziIZo6B1k54",
        "colab_type": "code",
        "colab": {}
      },
      "source": [
        "П p**y * (1 - p)**(1-y)"
      ],
      "execution_count": 0,
      "outputs": []
    },
    {
      "cell_type": "code",
      "metadata": {
        "id": "ctRZszXG2hl-",
        "colab_type": "code",
        "colab": {}
      },
      "source": [
        "log(П p**y * (1 - p)**(1-y)) = log(p**y * (1 - p)**(1-y)) + ... + log(p**y * (1 - p)**(1-y)) = "
      ],
      "execution_count": 0,
      "outputs": []
    },
    {
      "cell_type": "code",
      "metadata": {
        "id": "hdZ2FeHo20j6",
        "colab_type": "code",
        "colab": {}
      },
      "source": [
        "= log(p**y) + log((1 - p)**(1-y))) + ... + log(p**y) + log((1 - p)**(1-y))) ="
      ],
      "execution_count": 0,
      "outputs": []
    },
    {
      "cell_type": "code",
      "metadata": {
        "id": "gcvlUfCQ3CW6",
        "colab_type": "code",
        "colab": {}
      },
      "source": [
        "= Sigma(log(p**y) + log((1 - p)**(1-y)))) = "
      ],
      "execution_count": 0,
      "outputs": []
    },
    {
      "cell_type": "code",
      "metadata": {
        "id": "o947B-Vm3ZZr",
        "colab_type": "code",
        "colab": {}
      },
      "source": [
        "= Sigma(y*log(p) + (1-y)*log((1 - p))))"
      ],
      "execution_count": 0,
      "outputs": []
    },
    {
      "cell_type": "code",
      "metadata": {
        "id": "3k47JUgH3hH0",
        "colab_type": "code",
        "colab": {}
      },
      "source": [
        "logloss = np.mean(- y*log(p) - (1-y)*log((1 - p)))"
      ],
      "execution_count": 0,
      "outputs": []
    }
  ]
}